{
 "cells": [
  {
   "cell_type": "code",
   "execution_count": 1,
   "id": "fb2681c7-34ab-4905-957a-6bc6d32fc99c",
   "metadata": {},
   "outputs": [],
   "source": [
    "import pandas as pd\n",
    "import requests\n",
    "import csv\n",
    "from datetime import datetime"
   ]
  },
  {
   "cell_type": "code",
   "execution_count": 2,
   "id": "7353ab5a-3404-472e-af0c-313690ec4b4e",
   "metadata": {},
   "outputs": [],
   "source": [
    "API_KEY = \"use_your_api_key\"\n",
    "regions = [\"US\", \"GB\", \"CA\", \"IN\", \"AU\", \"DE\", \"FR\", \"IT\", \"ES\", \"MX\", \"BR\", \"JP\", \"KR\", \"RU\", \n",
    "           \"AR\", \"CO\", \"CL\", \"PE\", \"VE\", \"ZA\", \"NG\", \"PH\", \"TH\", \"ID\", \"MY\", \"SG\", \"HK\", \"TW\", \n",
    "           \"PL\", \"NL\", \"BE\", \"AT\", \"CH\", \"SE\", \"NO\", \"DK\", \"FI\", \"IE\", \"HU\", \"CZ\", \"RO\", \"GR\", \n",
    "           \"TR\", \"SA\", \"AE\", \"KW\", \"QA\", \"OM\", \"JO\", \"BD\", \"LK\", \"MM\", \"KH\", \"LA\", \"NP\", \"TW\", \n",
    "           \"SG\", \"MD\", \"BY\", \"UA\", \"LT\", \"LV\", \"EE\", \"RS\", \"HR\", \"SI\", \"BG\", \"MK\", \"AL\", \"MT\", \n",
    "           \"IS\", \"GL\", \"SM\", \"AD\", \"MC\", \"VA\", \"LI\", \"AW\", \"BQ\", \"CW\", \"SX\"]\n",
    "\n"
   ]
  },
  {
   "cell_type": "code",
   "execution_count": 3,
   "id": "6a79dfb3-a160-46b1-92c6-4931dc5c852e",
   "metadata": {},
   "outputs": [
    {
     "name": "stdout",
     "output_type": "stream",
     "text": [
      "Total videos fetched: 10466\n"
     ]
    }
   ],
   "source": [
    "def fetch_trending_videos(region_code, max_results=200):\n",
    "    base_url = \"https://www.googleapis.com/youtube/v3/videos\"\n",
    "    all_videos = []\n",
    "    page_token = \"\"\n",
    "\n",
    "    while len(all_videos) < max_results:\n",
    "        params = {\n",
    "            \"part\": \"snippet,statistics\",\n",
    "            \"chart\": \"mostPopular\",\n",
    "            \"regionCode\": region_code,\n",
    "            \"maxResults\": 50,\n",
    "            \"pageToken\": page_token,\n",
    "            \"key\": API_KEY\n",
    "        }\n",
    "        response = requests.get(base_url, params=params)\n",
    "        data = response.json()\n",
    "\n",
    "        if \"items\" not in data:\n",
    "            break\n",
    "\n",
    "        for item in data[\"items\"]:\n",
    "            video_data = {\n",
    "                \"video_id\": item[\"id\"],\n",
    "                \"trending_date\": datetime.now().strftime('%Y-%m-%d'),\n",
    "                \"title\": item[\"snippet\"][\"title\"],\n",
    "                \"channel_title\": item[\"snippet\"][\"channelTitle\"],\n",
    "                \"category_id\": item[\"snippet\"][\"categoryId\"],\n",
    "                \"publish_time\": item[\"snippet\"][\"publishedAt\"],\n",
    "                \"tags\": ','.join(item[\"snippet\"].get(\"tags\", [])),\n",
    "                \"views\": item[\"statistics\"].get(\"viewCount\", 0),\n",
    "                \"likes\": item[\"statistics\"].get(\"likeCount\", 0),\n",
    "                \"dislikes\": item[\"statistics\"].get(\"dislikeCount\", 0),\n",
    "                \"comment_count\": item[\"statistics\"].get(\"commentCount\", 0),\n",
    "                \"thumbnail_link\": item[\"snippet\"][\"thumbnails\"][\"high\"][\"url\"],\n",
    "                \"comments_disabled\": 'commentCount' not in item[\"statistics\"],\n",
    "                \"ratings_disabled\": 'likeCount' not in item[\"statistics\"],\n",
    "                \"video_error_or_removed\": item[\"snippet\"].get(\"video_error_or_removed\", False),\n",
    "                \"description\": item[\"snippet\"][\"description\"],\n",
    "                \"region\": region_code\n",
    "            }\n",
    "            all_videos.append(video_data)\n",
    "\n",
    "        # Update the page token for the next page (if exists)\n",
    "        page_token = data.get(\"nextPageToken\", \"\")\n",
    "        if not page_token:\n",
    "            break\n",
    "\n",
    "    return pd.DataFrame(all_videos)\n",
    "\n",
    "# Initialize an empty DataFrame to store all videos\n",
    "all_videos_df = pd.DataFrame()\n",
    "\n",
    "# Fetch and append data for each region\n",
    "for region in regions:\n",
    "    videos_df = fetch_trending_videos(region, max_results=200)\n",
    "    all_videos_df = pd.concat([all_videos_df, videos_df], ignore_index=True)\n",
    "\n",
    "# Save the DataFrame to a CSV file\n",
    "all_videos_df.to_csv(\"trending_videos_new.csv\", index=False)\n",
    "\n",
    "# Print the total number of videos fetched\n",
    "print(f\"Total videos fetched: {len(all_videos_df)}\")\n"
   ]
  },
  {
   "cell_type": "code",
   "execution_count": null,
   "id": "2d4ea7e2-7f67-4c19-88e7-ba3d2c233485",
   "metadata": {},
   "outputs": [],
   "source": []
  }
 ],
 "metadata": {
  "kernelspec": {
   "display_name": "Python 3 (ipykernel)",
   "language": "python",
   "name": "python3"
  },
  "language_info": {
   "codemirror_mode": {
    "name": "ipython",
    "version": 3
   },
   "file_extension": ".py",
   "mimetype": "text/x-python",
   "name": "python",
   "nbconvert_exporter": "python",
   "pygments_lexer": "ipython3",
   "version": "3.11.4"
  }
 },
 "nbformat": 4,
 "nbformat_minor": 5
}
